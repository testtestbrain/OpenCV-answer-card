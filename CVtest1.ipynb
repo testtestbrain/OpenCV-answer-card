{
 "cells": [
  {
   "cell_type": "code",
   "execution_count": 1,
   "metadata": {},
   "outputs": [],
   "source": [
    "#答案卡辨識 簡單版\n",
    "\n",
    "import cv2 as cv\n",
    "import numpy as np\n",
    "\n",
    "img = cv.imread('Photos/10.jpg')\n",
    "h, w = img.shape[:2]\n",
    "img2 = cv.resize(img, ((int(w/7), int(h/7)))) \n",
    "\n",
    "cv.namedWindow('image', cv.WINDOW_AUTOSIZE)\n",
    "cv.imshow('image', img2)\n",
    "cv.waitKey(0)\n",
    "cv.destroyAllWindows()"
   ]
  },
  {
   "cell_type": "code",
   "execution_count": 2,
   "metadata": {},
   "outputs": [],
   "source": [
    "image_HSV=cv.cvtColor(img2,cv.COLOR_BGR2HSV)\n",
    "# define range of blue color in HSV\n",
    "lower_blue = np.array([90,50,50])\n",
    "upper_blue = np.array([150,255,255])\n",
    "\n",
    "# Threshold the HSV image to get only blue colors\n",
    "mask = cv.inRange(image_HSV, lower_blue, upper_blue)\n",
    "\n",
    "mask_invert=cv.bitwise_not(mask);\n",
    "\n",
    "# Bitwise-AND mask and original image\n",
    "res = cv.bitwise_and(img2,img2, mask= mask_invert)\n",
    "\n",
    "cv.imshow('frame',img2)\n",
    "cv.imshow('mask',mask)\n",
    "cv.imshow('mask_invert',mask_invert)\n",
    "cv.imshow('res',res)\n",
    "\n",
    "cv.waitKey(0)\n",
    "cv.destroyAllWindows()"
   ]
  },
  {
   "cell_type": "code",
   "execution_count": 36,
   "metadata": {},
   "outputs": [],
   "source": [
    "gray = cv.cvtColor(res, cv.COLOR_BGR2GRAY)\n",
    "\n",
    "cv.namedWindow('gray', cv.WINDOW_AUTOSIZE)\n",
    "cv.imshow('gray', gray)\n",
    "cv.waitKey(0)\n",
    "cv.destroyAllWindows()"
   ]
  },
  {
   "cell_type": "code",
   "execution_count": 37,
   "metadata": {},
   "outputs": [],
   "source": [
    "ret,th1 = cv.threshold(gray,100,255,cv.THRESH_BINARY)\n",
    "th2 = cv.adaptiveThreshold(gray,255,cv.ADAPTIVE_THRESH_GAUSSIAN_C,cv.THRESH_BINARY,61,60)\n",
    "th3 = cv.adaptiveThreshold(gray,255,cv.ADAPTIVE_THRESH_GAUSSIAN_C,cv.THRESH_BINARY,11,2)\n",
    "\n",
    "cv.namedWindow('image1', cv.WINDOW_AUTOSIZE)\n",
    "cv.namedWindow('image2', cv.WINDOW_AUTOSIZE)\n",
    "cv.namedWindow('image3', cv.WINDOW_AUTOSIZE)\n",
    "\n",
    "cv.imshow('image1', th1)\n",
    "cv.imshow('image2', th2)\n",
    "cv.imshow('image3', th3)\n",
    "\n",
    "cv.waitKey(0)\n",
    "\n",
    "cv.destroyAllWindows()"
   ]
  },
  {
   "cell_type": "code",
   "execution_count": 38,
   "metadata": {},
   "outputs": [],
   "source": [
    "kernel = np.ones((3,3), np.uint8)\n",
    "#erode ??? shoude dilate than erode\n",
    "dilate = cv.erode(th2, kernel, iterations = 9)\n",
    "dilate = cv.dilate(dilate, kernel, iterations = 7)\n",
    "\n",
    "cv.namedWindow('dilate', cv.WINDOW_AUTOSIZE)\n",
    "cv.imshow('dilate', dilate)\n",
    "cv.waitKey(0)\n",
    "cv.destroyAllWindows()"
   ]
  },
  {
   "cell_type": "code",
   "execution_count": 39,
   "metadata": {},
   "outputs": [],
   "source": [
    "import math \n",
    "def circle1(r):\n",
    "    x=0\n",
    "    y=0\n",
    "    ans=[]\n",
    "    for i in range(r+1):\n",
    "        y=int(math.floor((r**2-i**2)**0.5))\n",
    "        ans.append([i,y])\n",
    "    return ans\n",
    "#a=circle1(400)\n",
    "#print(a)\n",
    "#print(len(a))        \n",
    "    "
   ]
  },
  {
   "cell_type": "code",
   "execution_count": 40,
   "metadata": {},
   "outputs": [],
   "source": [
    "def target_point(img):\n",
    "    target_point1=[]\n",
    "    y_max,x_max=dilate.shape\n",
    "    #        LU    RU          LD          RD\n",
    "    xy_max=[[0,0],[0,x_max-1],[y_max-1,0],[y_max-1,x_max-1]]\n",
    "    \n",
    "    for k in range(4):  #4 target point\n",
    "        count, position_hit, position_not_hit, hit_first=0,0,0,0\n",
    "        \n",
    "        for j in range(x_max):    #every point\n",
    "            r_point=circle1(j)\n",
    "            for i in range(len(r_point)):     #every count\n",
    "                if((img[abs(xy_max[k][0]-r_point[i][0]),\n",
    "                        abs(xy_max[k][1]-r_point[i][1])])==0):    #hit\n",
    "                \n",
    "                    if(count==0):     #first point\n",
    "                        target_point1.append([abs(xy_max[k][0]-r_point[i][0]),\n",
    "                                             abs(xy_max[k][1]-r_point[i][1])])\n",
    "#                        position_first=[abs(xy_max[k][0]-r_point[i][0]),\n",
    "#                                        abs(xy_max[k][1]-r_point[i][1])]\n",
    "\n",
    "                \n",
    "                    hit_first=1\n",
    "                    hit=1\n",
    "                    count=count+1\n",
    "                    #position=[r_point[i][0],r_point[i][1]]\n",
    "                    #print(position)    #test\n",
    "                    break\n",
    "                hit=0\n",
    "            \n",
    "            if(hit_first==1 and hit==0 and count<10):  #hit\n",
    "                position_hit=1\n",
    "                break\n",
    "            elif(hit==1 and count>=10):                #no hit\n",
    "                position_not_hit=1\n",
    "                loss_point=k\n",
    "                break\n",
    "        #print(xy_max[k][0],xy_max[k][1],count, position_hit, position_not_hit, hit_first)\n",
    "    \n",
    "    return target_point1,loss_point"
   ]
  },
  {
   "cell_type": "code",
   "execution_count": 41,
   "metadata": {},
   "outputs": [
    {
     "name": "stdout",
     "output_type": "stream",
     "text": [
      "[[111, 133], [143, 249], [514, 113], [519, 282]] 1\n"
     ]
    }
   ],
   "source": [
    "tp,tp_s=target_point(dilate)\n",
    "print(tp,tp_s)"
   ]
  },
  {
   "cell_type": "code",
   "execution_count": 42,
   "metadata": {},
   "outputs": [],
   "source": [
    "dilate2=dilate.copy()\n",
    "for i in range(4):\n",
    "    cv.circle(dilate2,(tp[i][1],tp[i][0]),5,127,-1)\n",
    "    \n",
    "cv.circle(dilate2,(tp[tp_s][1],tp[tp_s][0]),10,80,-1)\n",
    "cv.namedWindow('dilate2', cv.WINDOW_AUTOSIZE)\n",
    "cv.imshow('dilate2', dilate2)\n",
    "cv.waitKey(0)\n",
    "cv.destroyAllWindows()"
   ]
  },
  {
   "cell_type": "code",
   "execution_count": 43,
   "metadata": {},
   "outputs": [],
   "source": [
    "def determine_direction(dir):\n",
    "    if(abs(dir[0][0]-dir[1][0])<8):\n",
    "        return 'count up'      #count up\n",
    "    else:\n",
    "        return 'count down'      #count down"
   ]
  },
  {
   "cell_type": "code",
   "execution_count": 44,
   "metadata": {},
   "outputs": [],
   "source": [
    "def determine_correct(dir):\n",
    "    if(abs(dir[0][1]-dir[2][1])<8 and abs(dir[2][0]-dir[3][0])<8):\n",
    "        return 'correct'     #correct\n",
    "    else:\n",
    "        return 'incorrect'     #incorrect"
   ]
  },
  {
   "cell_type": "code",
   "execution_count": 45,
   "metadata": {},
   "outputs": [
    {
     "data": {
      "text/plain": [
       "'count down'"
      ]
     },
     "execution_count": 45,
     "metadata": {},
     "output_type": "execute_result"
    }
   ],
   "source": [
    "determine_direction(tp)"
   ]
  },
  {
   "cell_type": "code",
   "execution_count": 46,
   "metadata": {},
   "outputs": [
    {
     "data": {
      "text/plain": [
       "'incorrect'"
      ]
     },
     "execution_count": 46,
     "metadata": {},
     "output_type": "execute_result"
    }
   ],
   "source": [
    "determine_correct(tp)"
   ]
  },
  {
   "cell_type": "code",
   "execution_count": 47,
   "metadata": {},
   "outputs": [],
   "source": [
    "def liftline(img):\n",
    "    count, position_hit, position_not_hit, hit_first=0,0,0,0\n",
    "    \n",
    "    y_max,x_max=img.shape\n",
    "    \n",
    "    for j in range(x_max):\n",
    "        r_point=circle1(j)\n",
    "        for i in range(len(r_point)):\n",
    "            if((dilate[r_point[i][0],r_point[i][1]])==0):    #hit\n",
    "                \n",
    "                if(position_hit==1):     #first point\n",
    "                    #position_first=[y_max-1-r_point[i][0],x_max-1-r_point[i][1]]\n",
    "                    return[r_point[i][1],r_point[i][0]]\n",
    "                    \n",
    "                \n",
    "                hit_first=1\n",
    "                hit=1\n",
    "                count=count+1\n",
    "                #position=[r_point[i][0],r_point[i][1]]\n",
    "                #print(position)    #test\n",
    "                \n",
    "                break\n",
    "            hit=0\n",
    "            \n",
    "        if(hit_first==1 and hit==0):\n",
    "            position_hit=1 \n",
    "           # print('sss')"
   ]
  },
  {
   "cell_type": "code",
   "execution_count": 48,
   "metadata": {},
   "outputs": [],
   "source": [
    "def liftline_down(img):\n",
    "    count, position_hit, position_not_hit, hit_first=0,0,0,0\n",
    "    \n",
    "    y_max,x_max=img.shape\n",
    "    \n",
    "    for j in range(x_max):\n",
    "        r_point=circle1(j)\n",
    "        for i in range(len(r_point)):\n",
    "            if((dilate[y_max-1-r_point[i][0],r_point[i][1]])==0):    #hit\n",
    "                \n",
    "                if(position_hit==1):     #first point\n",
    "                    #position_first=[y_max-1-r_point[i][0],x_max-1-r_point[i][1]]\n",
    "                    return[r_point[i][1],y_max-1-r_point[i][0]]\n",
    "                    \n",
    "                \n",
    "                hit_first=1\n",
    "                hit=1\n",
    "                count=count+1\n",
    "                #position=[r_point[i][0],r_point[i][1]]\n",
    "                #print(position)    #test\n",
    "                \n",
    "                break\n",
    "            hit=0\n",
    "            \n",
    "        if(hit_first==1 and hit==0):\n",
    "            position_hit=1 \n",
    "           # print('sss')"
   ]
  },
  {
   "cell_type": "code",
   "execution_count": 49,
   "metadata": {},
   "outputs": [
    {
     "name": "stdout",
     "output_type": "stream",
     "text": [
      "[151, 143]\n",
      "[136, 477]\n"
     ]
    }
   ],
   "source": [
    "liftline_point=liftline(dilate)\n",
    "liftline_down_point=liftline_down(dilate)\n",
    "print(liftline_point)\n",
    "print(liftline_down_point)"
   ]
  },
  {
   "cell_type": "code",
   "execution_count": null,
   "metadata": {},
   "outputs": [],
   "source": [
    "dilate3=dilate.copy()\n",
    "\n",
    "cv.circle(dilate3,(tp[tp_s][1],tp[tp_s][0]),3,127,-1)\n",
    "cv.circle(dilate3,(liftline_point[0],liftline_point[1]),3,127,-1)\n",
    "cv.circle(dilate3,(liftline_down_point[0],liftline_down_point[1]),3,127,-1)\n",
    "cv.namedWindow('dilate3', cv.WINDOW_AUTOSIZE)\n",
    "cv.imshow('dilate3', dilate3)\n",
    "cv.waitKey(0)\n",
    "cv.destroyAllWindows()"
   ]
  },
  {
   "cell_type": "code",
   "execution_count": 28,
   "metadata": {
    "scrolled": true
   },
   "outputs": [
    {
     "name": "stdout",
     "output_type": "stream",
     "text": [
      "334 98\n"
     ]
    }
   ],
   "source": [
    "y_line=liftline_down_point[1]-liftline_point[1]\n",
    "x_line=tp[tp_s][1]-liftline_point[0]\n",
    "print(y_line,x_line)"
   ]
  },
  {
   "cell_type": "code",
   "execution_count": 29,
   "metadata": {},
   "outputs": [
    {
     "name": "stdout",
     "output_type": "stream",
     "text": [
      "[19, 49, 79, 110, 140, 171, 201, 231, 262, 292] [16, 49, 81]\n"
     ]
    }
   ],
   "source": [
    "num_y_ans=[]\n",
    "num_x_ans=[]\n",
    "for i in range(10):\n",
    "    num_y_ans.append(math.floor(y_line/22*(i*2+1))+4)\n",
    "for i in range(3):\n",
    "    num_x_ans.append(math.floor(x_line/6*(i*2+1)))\n",
    "    \n",
    "print(num_y_ans,num_x_ans)"
   ]
  },
  {
   "cell_type": "code",
   "execution_count": 30,
   "metadata": {},
   "outputs": [
    {
     "name": "stdout",
     "output_type": "stream",
     "text": [
      "[[170, 159], [170, 192], [170, 224], [200, 159], [200, 192], [200, 224], [230, 159], [230, 192], [230, 224], [261, 159], [261, 192], [261, 224], [291, 159], [291, 192], [291, 224], [322, 159], [322, 192], [322, 224], [352, 159], [352, 192], [352, 224], [382, 159], [382, 192], [382, 224], [413, 159], [413, 192], [413, 224], [443, 159], [443, 192], [443, 224]]\n"
     ]
    }
   ],
   "source": [
    "num_xy_ans=[]\n",
    "for i in num_y_ans:\n",
    "    for j in num_x_ans:\n",
    "        num_xy_ans.append([liftline_point[0]+i,liftline_point[1]+j])\n",
    "print(num_xy_ans)"
   ]
  },
  {
   "cell_type": "code",
   "execution_count": 31,
   "metadata": {},
   "outputs": [],
   "source": [
    "dilate4=dilate.copy()\n",
    "\n",
    "for i in range(len(num_xy_ans)):\n",
    "    cv.circle(dilate4,(num_xy_ans[i][1],num_xy_ans[i][0]),3,127,-1)\n",
    "    \n",
    "cv.namedWindow('dilate4', cv.WINDOW_AUTOSIZE)\n",
    "cv.imshow('dilate4', dilate4)\n",
    "cv.waitKey(0)\n",
    "cv.destroyAllWindows()"
   ]
  },
  {
   "cell_type": "code",
   "execution_count": 32,
   "metadata": {},
   "outputs": [
    {
     "name": "stdout",
     "output_type": "stream",
     "text": [
      "[True, False, False, False, True, False, False, False, True, False, False, False, False, True, False, False, True, False, False, False, True, False, True, False, True, False, False, False, False, True]\n"
     ]
    }
   ],
   "source": [
    "num_ans=[]\n",
    "for i in range(len(num_xy_ans)):\n",
    "    if (dilate[num_xy_ans[i][0],num_xy_ans[i][1]]==0):\n",
    "               num_ans.append(True)\n",
    "    else:\n",
    "               num_ans.append(False)\n",
    "print(num_ans)"
   ]
  },
  {
   "cell_type": "code",
   "execution_count": 33,
   "metadata": {},
   "outputs": [
    {
     "name": "stdout",
     "output_type": "stream",
     "text": [
      "[[0, True], [0, False], [0, False], [1, False], [1, True], [1, False], [2, False], [2, False], [2, True], [3, False], [3, False], [3, False], [4, False], [4, True], [4, False], [5, False], [5, True], [5, False], [6, False], [6, False], [6, True], [7, False], [7, True], [7, False], [8, True], [8, False], [8, False], [9, False], [9, False], [9, True]]\n"
     ]
    }
   ],
   "source": [
    "read_ans=[]\n",
    "dilate5=dilate.copy()\n",
    "abc=['A','B','C']\n",
    "\n",
    "for j in range(10):\n",
    "    cv.putText(dilate5,'>', (1, 15+j*14), cv.FONT_HERSHEY_SIMPLEX,0.3, 0, 1, cv.LINE_AA)\n",
    "    for i in range(3):\n",
    "        if (num_ans[i+j*3]):\n",
    "            cv.putText(dilate5, abc[i], (9+i*11, 15+j*14), cv.FONT_HERSHEY_SIMPLEX,0.4, 0, 1, cv.LINE_AA)\n",
    "       \n",
    "        read_ans.append([j,num_ans[i+j*3]])\n",
    "    cv.putText(dilate5,'<', (40, 15+j*14), cv.FONT_HERSHEY_SIMPLEX,0.3, 0, 1, cv.LINE_AA)\n",
    "        \n",
    "cv.namedWindow('dilate5', cv.WINDOW_AUTOSIZE)\n",
    "cv.imshow('dilate5', dilate5)\n",
    "cv.waitKey(0)\n",
    "cv.destroyAllWindows()\n",
    "        \n",
    "print(read_ans)\n",
    "                "
   ]
  },
  {
   "cell_type": "code",
   "execution_count": null,
   "metadata": {},
   "outputs": [],
   "source": []
  }
 ],
 "metadata": {
  "kernelspec": {
   "display_name": "Python 3",
   "language": "python",
   "name": "python3"
  },
  "language_info": {
   "codemirror_mode": {
    "name": "ipython",
    "version": 3
   },
   "file_extension": ".py",
   "mimetype": "text/x-python",
   "name": "python",
   "nbconvert_exporter": "python",
   "pygments_lexer": "ipython3",
   "version": "3.8.5"
  }
 },
 "nbformat": 4,
 "nbformat_minor": 4
}
